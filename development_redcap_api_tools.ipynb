{
 "cells": [
  {
   "cell_type": "markdown",
   "id": "2d63f720-0568-4c16-ae7d-954077c0ec23",
   "metadata": {},
   "source": [
    "# REDCap Datatype and API Export Notes"
   ]
  },
  {
   "cell_type": "markdown",
   "id": "7c3d7f8d-7691-453c-844f-d4e09be83cad",
   "metadata": {},
   "source": [
    "### Non-Standard Field types\n",
    "- instrument_name_complete/incomplete\n",
    "\n",
    "### Standard Field Types\n",
    "- text\n",
    "- radio\n",
    "- dropdown\n",
    "- file\n",
    "- descriptive\n",
    "- notes\n",
    "- yesno\n",
    "- checkbox\n"
   ]
  },
  {
   "cell_type": "markdown",
   "id": "d8b26f01-a8d7-4fca-aee9-e468f304a783",
   "metadata": {},
   "source": [
    "In addition to standard types, each form (instrument) has a column to indicate if form is complete/incomplete\n",
    "\n",
    "instrument_name_complete/incomplete is exported via standard API call. \n",
    "\n",
    "\n"
   ]
  },
  {
   "cell_type": "markdown",
   "id": "8e4ba51b-73e3-48a7-8dc6-09343d424293",
   "metadata": {},
   "source": [
    "## API Export Records (default settings)\n",
    "\n",
    "\n",
    "\n",
    "- text\n",
    "- radio\n",
    "- dropdown\n",
    "- file\n",
    "- <s> descriptive\n",
    "- notes\n",
    "- yesno\n",
    "- checkbox\n",
    "- instrument_name_complete/incomplete\n",
    "\n",
    "\n",
    "\"descriptive\" field type is NOT exported"
   ]
  },
  {
   "cell_type": "markdown",
   "id": "68baaaad-34ae-4543-8bb6-d86682e343ab",
   "metadata": {},
   "source": [
    "# Appendix"
   ]
  },
  {
   "cell_type": "markdown",
   "id": "c283d94d-d1e9-4388-b297-f4d2e8324f3f",
   "metadata": {},
   "source": [
    "## Pycap Methods\n"
   ]
  },
  {
   "cell_type": "markdown",
   "id": "43799d08-b5ca-41c5-a57e-9180de6405f5",
   "metadata": {},
   "source": [
    "\n",
    "\n",
    "### project.export_fields()\n",
    "    - does NOT export \"file\" field types\n",
    "    \n",
    "### project.export_metadata()\n",
    "    - does NOT export \"instrument_name_complete/incomplete\"\n",
    "    \n",
    "\n",
    "\n",
    "\n",
    "\n"
   ]
  },
  {
   "cell_type": "code",
   "execution_count": null,
   "id": "9a39970a-103f-4a63-a688-8ffe7453efe0",
   "metadata": {},
   "outputs": [],
   "source": [
    "import redcap"
   ]
  },
  {
   "cell_type": "code",
   "execution_count": null,
   "id": "a2c32f04-f4d7-412e-ab82-4e15b066f728",
   "metadata": {},
   "outputs": [],
   "source": [
    "url = \"https://qa-redcap.doh.wa.gov/api/\"\n",
    "api_key = \"1D4B2F0ED2500C255CDEDA2F159E7725\" #QA env PID75\n",
    "\n",
    "#Create Project objects\n",
    "project = redcap.Project(url, api_key)\n",
    "\n",
    "def describe_fields(project):\n",
    "    \"\"\"\n",
    "    create a summary dataframe to describe every standard field from default API export\n",
    "    \n",
    "    args:\n",
    "        pycap Project object\n",
    "    return:\n",
    "        Dataframe\n",
    "        \n",
    "    \"\"\"  \n",
    "    df_fields = project.export_field_names(format_type = \"df\")\n",
    "    df_meta = project.export_metadata(format_type = \"df\")\n",
    "    \n",
    "    #set aside choice fields Series\n",
    "    choice_fields = df_meta[df_meta[\"field_type\"].isin(['dropdown', 'radio', 'checkbox'])][\"select_choices_or_calculations\"].copy()#select field type \"dropdown\",\"radio\", \"checkbox\"\n",
    "    choice_fields = choice_fields[choice_fields.notnull()] #remove possibility of NA fields\n",
    "\n",
    "    #drop the first row, it is the index of dataframe export (unique identified: record_id, sample_id)\n",
    "    df_meta = df_meta.drop(df_meta.index[0])\n",
    "    df_fields = df_fields.drop(df_fields.index[0])\n",
    "\n",
    "    #only need 2 fields from metadata export\n",
    "    df_meta = df_meta[[\"form_name\", \"field_type\", \"text_validation_type_or_show_slider_number\"]].copy()\n",
    "\n",
    "    #combine fields from metadata and from export_field_names \n",
    "    df_fields_2 = df_fields.join(df_meta)\n",
    "    \n",
    "    #add field names that have type \"file\" (from metadata)\n",
    "    files_df = df_meta[df_meta[\"field_type\"] == \"file\"].copy()\n",
    "    files_df['export_field_name'] = files_df.index\n",
    "    df_fields_3 = pd.concat([df_fields_2, files_df])\n",
    "    \n",
    "    #set index to export_field_name\n",
    "    df_fields_3 = df_fields_3.set_index(\"export_field_name\")\n",
    "    \n",
    "    ##### add a new columns: str(dict) of possible choices for multiple choice fields####\n",
    "    fields_dict = {}\n",
    "    for i in choice_fields.iteritems():\n",
    "\n",
    "        string_to_process = i[1] #the value element of the series (as opposed to index element)\n",
    "        list_of_strings = string_to_process.split(\"|\") # split the string \n",
    "        keys_values_list = [i.split(\", \", 1) for i in list_of_strings]# split each list once for list of lists [key, values]\n",
    "        values_dict = {t[0]:t[1] for t in keys_values_list} #dictionary of key value pairs\n",
    "        fields_dict[i[0]] =  str(values_dict)\n",
    "\n",
    "    choice_fields_series = pd.Series(fields_dict)\n",
    "\n",
    "    complete = pd.concat([df_fields_3 ,choice_fields_series.to_frame(\"Choice Values\")], axis = 1)\n",
    "    \n",
    "    ## add special case for multiple choice fields - \"yesno\" field type \n",
    "    yesno_dict = {\"1\":\"Yes\", \"0\":\"No\"}\n",
    "    yesno_index = df_meta[df_meta[\"field_type\"] == \"yesno\"].index\n",
    "    yesno_series = pd.Series(str(yesno_dict), yesno_index) #create series, yes/values and index for all yesno field type\n",
    "    yesno_frame = yesno_series.to_frame(\"Choice Values\")\n",
    "    \n",
    "    df_joined = complete.join(yesno_frame, lsuffix='_l', rsuffix='_r')\n",
    "    \n",
    "    complete[\"Choice Values\"] = df_joined[\"Choice Values_l\"].fillna(df_joined[\"Choice Values_r\"])\n",
    "    \n",
    "    return complete\n"
   ]
  },
  {
   "cell_type": "code",
   "execution_count": null,
   "id": "28026862-ae2f-4491-8019-30de06419b30",
   "metadata": {},
   "outputs": [],
   "source": [
    "df = describe_fields(project)"
   ]
  },
  {
   "cell_type": "code",
   "execution_count": null,
   "id": "1219fb45-7ce9-41bd-9176-3cfcee82706b",
   "metadata": {},
   "outputs": [],
   "source": [
    "df"
   ]
  },
  {
   "cell_type": "markdown",
   "id": "c3bddfc8-fcd2-4122-83ec-f86a9a8e3ba1",
   "metadata": {},
   "source": [
    "# Development"
   ]
  },
  {
   "cell_type": "markdown",
   "id": "6c11016f-4919-48d3-ac54-2ec6eac4df3e",
   "metadata": {},
   "source": [
    "# Sratch Sheet"
   ]
  }
 ],
 "metadata": {
  "kernelspec": {
   "display_name": "Python [conda env:transform22] *",
   "language": "python",
   "name": "conda-env-transform22-py"
  },
  "language_info": {
   "codemirror_mode": {
    "name": "ipython",
    "version": 3
   },
   "file_extension": ".py",
   "mimetype": "text/x-python",
   "name": "python",
   "nbconvert_exporter": "python",
   "pygments_lexer": "ipython3",
   "version": "3.9.12"
  }
 },
 "nbformat": 4,
 "nbformat_minor": 5
}
