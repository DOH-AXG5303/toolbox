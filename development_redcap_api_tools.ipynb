{
 "cells": [
  {
   "cell_type": "markdown",
   "id": "2d63f720-0568-4c16-ae7d-954077c0ec23",
   "metadata": {},
   "source": [
    "# REDCap Datatype and API Export Notes"
   ]
  },
  {
   "cell_type": "markdown",
   "id": "7c3d7f8d-7691-453c-844f-d4e09be83cad",
   "metadata": {},
   "source": [
    "### Non-Standard Field types\n",
    "- instrument_name_complete/incomplete\n",
    "\n",
    "### Standard Field Types\n",
    "- text\n",
    "- radio\n",
    "- dropdown\n",
    "- file\n",
    "- descriptive\n",
    "- notes\n",
    "- yesno\n",
    "- checkbox\n"
   ]
  },
  {
   "cell_type": "markdown",
   "id": "d8b26f01-a8d7-4fca-aee9-e468f304a783",
   "metadata": {},
   "source": [
    "In addition to standard types, each form (instrument) has a column to indicate if form is complete/incomplete\n",
    "\n",
    "instrument_name_complete/incomplete is exported via standard API call. \n",
    "\n",
    "\n"
   ]
  },
  {
   "cell_type": "markdown",
   "id": "8e4ba51b-73e3-48a7-8dc6-09343d424293",
   "metadata": {},
   "source": [
    "## API Export Records (default settings)\n",
    "\n",
    "\n",
    "\n",
    "- text\n",
    "- radio\n",
    "- dropdown\n",
    "- file\n",
    "- <s> descriptive\n",
    "- notes\n",
    "- yesno\n",
    "- checkbox\n",
    "- instrument_name_complete/incomplete\n",
    "\n",
    "\n",
    "\"descriptive\" field type is NOT exported"
   ]
  },
  {
   "cell_type": "markdown",
   "id": "68baaaad-34ae-4543-8bb6-d86682e343ab",
   "metadata": {},
   "source": [
    "# Appendix"
   ]
  },
  {
   "cell_type": "markdown",
   "id": "c283d94d-d1e9-4388-b297-f4d2e8324f3f",
   "metadata": {},
   "source": [
    "## Pycap Methods\n"
   ]
  },
  {
   "cell_type": "markdown",
   "id": "43799d08-b5ca-41c5-a57e-9180de6405f5",
   "metadata": {},
   "source": [
    "\n",
    "\n",
    "### project.export_fields()\n",
    "    - does NOT export \"file\" field types\n",
    "    \n",
    "### project.export_metadata()\n",
    "    - does NOT export \"instrument_name_complete/incomplete\"\n",
    "    \n",
    "\n",
    "\n",
    "\n",
    "\n"
   ]
  },
  {
   "cell_type": "markdown",
   "id": "c3bddfc8-fcd2-4122-83ec-f86a9a8e3ba1",
   "metadata": {},
   "source": [
    "# Development"
   ]
  },
  {
   "cell_type": "markdown",
   "id": "6c11016f-4919-48d3-ac54-2ec6eac4df3e",
   "metadata": {},
   "source": [
    "# Sratch Sheet"
   ]
  }
 ],
 "metadata": {
  "kernelspec": {
   "display_name": "Python [conda env:transform22] *",
   "language": "python",
   "name": "conda-env-transform22-py"
  },
  "language_info": {
   "codemirror_mode": {
    "name": "ipython",
    "version": 3
   },
   "file_extension": ".py",
   "mimetype": "text/x-python",
   "name": "python",
   "nbconvert_exporter": "python",
   "pygments_lexer": "ipython3",
   "version": "3.9.12"
  }
 },
 "nbformat": 4,
 "nbformat_minor": 5
}
