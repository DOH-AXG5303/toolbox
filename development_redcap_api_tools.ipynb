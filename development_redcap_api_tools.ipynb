{
 "cells": [
  {
   "cell_type": "code",
   "execution_count": 62,
   "id": "8fdf7708-5d51-47ea-a1cd-ff1869f6c11b",
   "metadata": {},
   "outputs": [],
   "source": [
    "url = \"https://qa-redcap.doh.wa.gov/api/\"\n",
    "api_key = \"1D4B2F0ED2500C255CDEDA2F159E7725\" #QA env PID75"
   ]
  },
  {
   "cell_type": "code",
   "execution_count": null,
   "id": "125bb98c-cc22-43c7-86eb-12d23e29e6ea",
   "metadata": {},
   "outputs": [],
   "source": []
  },
  {
   "cell_type": "code",
   "execution_count": 65,
   "id": "9a39970a-103f-4a63-a688-8ffe7453efe0",
   "metadata": {},
   "outputs": [],
   "source": [
    "#Create Project objects\n",
    "project = redcap.Project(prod_url, prod_pid100)"
   ]
  },
  {
   "cell_type": "code",
   "execution_count": 72,
   "id": "a2c32f04-f4d7-412e-ab82-4e15b066f728",
   "metadata": {},
   "outputs": [],
   "source": [
    "def describe_fields(project):\n",
    "    \"\"\"\n",
    "    create a summary dataframe to describe fields that result from API export\n",
    "    \n",
    "    args:\n",
    "        pycap Project object\n",
    "    return:\n",
    "        Dataframe\n",
    "        \n",
    "    \"\"\"\n",
    "    \n",
    "    df_fields = project.export_field_names(format_type = \"df\")\n",
    "    df_meta = project.export_metadata(format_type = \"df\")\n",
    "\n",
    "    #drop \"record_id\" field, it is the row index of dataframe export\n",
    "    df_meta = df_meta.drop(\"record_id\")\n",
    "    df_fields = df_fields.drop(\"record_id\")\n",
    "\n",
    "    #only need 2 fields from metadata export\n",
    "    df_meta = df_meta[[\"form_name\", \"field_type\"]].copy()\n",
    "\n",
    "    df_fields_2 = df_fields.join(df_meta)\n",
    "    \n",
    "    return df_fields_2"
   ]
  },
  {
   "cell_type": "code",
   "execution_count": 73,
   "id": "28026862-ae2f-4491-8019-30de06419b30",
   "metadata": {},
   "outputs": [],
   "source": [
    "df = describe_fields(project)"
   ]
  },
  {
   "cell_type": "code",
   "execution_count": null,
   "id": "7383dcd5-3deb-46fd-a985-79af671f114a",
   "metadata": {},
   "outputs": [],
   "source": [
    "df"
   ]
  },
  {
   "cell_type": "code",
   "execution_count": 67,
   "id": "e5ce889b-1797-4b64-b767-2dfc4895869d",
   "metadata": {},
   "outputs": [],
   "source": []
  },
  {
   "cell_type": "code",
   "execution_count": 68,
   "id": "1a101641-50e6-4e2a-92af-2b292ab3cb4b",
   "metadata": {},
   "outputs": [
    {
     "name": "stderr",
     "output_type": "stream",
     "text": [
      "C:\\Users\\AXG5303\\Miniconda3\\envs\\transform22\\lib\\site-packages\\redcap\\methods\\base.py:137: DtypeWarning: Columns (397) have mixed types. Specify dtype option on import or set low_memory=False.\n",
      "  dataframe = pd.read_csv(buf, **df_kwargs)\n"
     ]
    }
   ],
   "source": [
    "df_record = project.export_records(format_type = \"df\")\n"
   ]
  },
  {
   "cell_type": "code",
   "execution_count": null,
   "id": "5a75d779-7f6a-43ca-bd2e-13d89accee8a",
   "metadata": {},
   "outputs": [],
   "source": []
  },
  {
   "cell_type": "code",
   "execution_count": null,
   "id": "17eb1c72-5eec-4a16-bdbc-c438eb16f04a",
   "metadata": {},
   "outputs": [],
   "source": []
  },
  {
   "cell_type": "code",
   "execution_count": 21,
   "id": "9af451fd-5d4c-41ce-8c0e-ee63df4083ad",
   "metadata": {},
   "outputs": [],
   "source": [
    "meta_df = meta_df.drop(\"record_id\")\n",
    "fields_df = fields_df.drop(\"record_id\")\n",
    "\n",
    "meta_short_df = meta_df[[\"form_name\", \"field_type\"]].copy()\n",
    "\n",
    "fields_df_01 = fields_df.join(meta_short_df)"
   ]
  },
  {
   "cell_type": "code",
   "execution_count": 30,
   "id": "e131f731-19a0-4285-98a7-a5642c9ec56d",
   "metadata": {},
   "outputs": [
    {
     "name": "stdout",
     "output_type": "stream",
     "text": [
      "441\n",
      "441\n"
     ]
    },
    {
     "data": {
      "text/plain": [
       "True"
      ]
     },
     "execution_count": 30,
     "metadata": {},
     "output_type": "execute_result"
    }
   ],
   "source": [
    "#verify that all exported field names exist in exported dataset\n",
    "print(len(fields_df_01[\"export_field_name\"]))\n",
    "in_common = set(fields_df_01[\"export_field_name\"]) & set(record_df.columns)\n",
    "print(len(in_common))\n",
    "in_common == set(fields_df_01[\"export_field_name\"])"
   ]
  },
  {
   "cell_type": "code",
   "execution_count": 45,
   "id": "442f906d-539b-4921-8fdd-29c95260a2f0",
   "metadata": {},
   "outputs": [
    {
     "name": "stdout",
     "output_type": "stream",
     "text": [
      "471\n"
     ]
    }
   ],
   "source": [
    "print(len(record_df.columns))"
   ]
  },
  {
   "cell_type": "code",
   "execution_count": 39,
   "id": "490c4332-eb6c-4d15-8a93-46bd7f997f49",
   "metadata": {},
   "outputs": [
    {
     "name": "stdout",
     "output_type": "stream",
     "text": [
      "30\n"
     ]
    },
    {
     "data": {
      "text/plain": [
       "['org_cmo_signature',\n",
       " 'storage_capacity3',\n",
       " 'addtl_upload3',\n",
       " 'provider_list',\n",
       " 'storage_proof3',\n",
       " 'storage_proof1',\n",
       " 'loc_signature',\n",
       " 'addtl_upload1',\n",
       " 'storage_proof4',\n",
       " 'storage_proof5',\n",
       " 'org_ceo_signature',\n",
       " 'storage_tempproof2',\n",
       " 'ddl_coc3',\n",
       " 'ddl_coc5',\n",
       " 'ddl_coc1',\n",
       " 'doc_iis_isa',\n",
       " 'storage_proof2',\n",
       " 'storage_capacity5',\n",
       " 'storage_tempproof3',\n",
       " 'redistribution',\n",
       " 'isa_oicp_signature',\n",
       " 'ddl_coc2',\n",
       " 'storage_tempproof4',\n",
       " 'storage_capacity4',\n",
       " 'storage_tempproof5',\n",
       " 'ddl_coc4',\n",
       " 'storage_capacity2',\n",
       " 'addtl_upload2',\n",
       " 'storage_tempproof1',\n",
       " 'storage_capacity1']"
      ]
     },
     "execution_count": 39,
     "metadata": {},
     "output_type": "execute_result"
    }
   ],
   "source": [
    "unaccounted = list(set(record_df.columns) - set(fields_df_01[\"export_field_name\"]))\n",
    "print(len(unaccounted))\n",
    "unaccounted"
   ]
  },
  {
   "cell_type": "code",
   "execution_count": 40,
   "id": "fde1dedf-2f9d-4660-9d94-7015f44b245f",
   "metadata": {},
   "outputs": [
    {
     "name": "stdout",
     "output_type": "stream",
     "text": [
      "30\n"
     ]
    },
    {
     "data": {
      "text/html": [
       "<div>\n",
       "<style scoped>\n",
       "    .dataframe tbody tr th:only-of-type {\n",
       "        vertical-align: middle;\n",
       "    }\n",
       "\n",
       "    .dataframe tbody tr th {\n",
       "        vertical-align: top;\n",
       "    }\n",
       "\n",
       "    .dataframe thead th {\n",
       "        text-align: right;\n",
       "    }\n",
       "</style>\n",
       "<table border=\"1\" class=\"dataframe\">\n",
       "  <thead>\n",
       "    <tr style=\"text-align: right;\">\n",
       "      <th></th>\n",
       "      <th>form_name</th>\n",
       "      <th>field_type</th>\n",
       "    </tr>\n",
       "    <tr>\n",
       "      <th>field_name</th>\n",
       "      <th></th>\n",
       "      <th></th>\n",
       "    </tr>\n",
       "  </thead>\n",
       "  <tbody>\n",
       "    <tr>\n",
       "      <th>ddl_coc1</th>\n",
       "      <td>facility_storage</td>\n",
       "      <td>file</td>\n",
       "    </tr>\n",
       "    <tr>\n",
       "      <th>storage_tempproof1</th>\n",
       "      <td>facility_storage</td>\n",
       "      <td>file</td>\n",
       "    </tr>\n",
       "    <tr>\n",
       "      <th>storage_proof1</th>\n",
       "      <td>facility_storage</td>\n",
       "      <td>file</td>\n",
       "    </tr>\n",
       "    <tr>\n",
       "      <th>storage_capacity1</th>\n",
       "      <td>facility_storage</td>\n",
       "      <td>file</td>\n",
       "    </tr>\n",
       "    <tr>\n",
       "      <th>ddl_coc2</th>\n",
       "      <td>facility_storage</td>\n",
       "      <td>file</td>\n",
       "    </tr>\n",
       "    <tr>\n",
       "      <th>storage_proof2</th>\n",
       "      <td>facility_storage</td>\n",
       "      <td>file</td>\n",
       "    </tr>\n",
       "    <tr>\n",
       "      <th>storage_tempproof2</th>\n",
       "      <td>facility_storage</td>\n",
       "      <td>file</td>\n",
       "    </tr>\n",
       "    <tr>\n",
       "      <th>storage_capacity2</th>\n",
       "      <td>facility_storage</td>\n",
       "      <td>file</td>\n",
       "    </tr>\n",
       "    <tr>\n",
       "      <th>ddl_coc3</th>\n",
       "      <td>facility_storage</td>\n",
       "      <td>file</td>\n",
       "    </tr>\n",
       "    <tr>\n",
       "      <th>storage_tempproof3</th>\n",
       "      <td>facility_storage</td>\n",
       "      <td>file</td>\n",
       "    </tr>\n",
       "    <tr>\n",
       "      <th>storage_proof3</th>\n",
       "      <td>facility_storage</td>\n",
       "      <td>file</td>\n",
       "    </tr>\n",
       "    <tr>\n",
       "      <th>storage_capacity3</th>\n",
       "      <td>facility_storage</td>\n",
       "      <td>file</td>\n",
       "    </tr>\n",
       "    <tr>\n",
       "      <th>ddl_coc4</th>\n",
       "      <td>facility_storage</td>\n",
       "      <td>file</td>\n",
       "    </tr>\n",
       "    <tr>\n",
       "      <th>storage_tempproof4</th>\n",
       "      <td>facility_storage</td>\n",
       "      <td>file</td>\n",
       "    </tr>\n",
       "    <tr>\n",
       "      <th>storage_proof4</th>\n",
       "      <td>facility_storage</td>\n",
       "      <td>file</td>\n",
       "    </tr>\n",
       "    <tr>\n",
       "      <th>storage_capacity4</th>\n",
       "      <td>facility_storage</td>\n",
       "      <td>file</td>\n",
       "    </tr>\n",
       "    <tr>\n",
       "      <th>ddl_coc5</th>\n",
       "      <td>facility_storage</td>\n",
       "      <td>file</td>\n",
       "    </tr>\n",
       "    <tr>\n",
       "      <th>storage_tempproof5</th>\n",
       "      <td>facility_storage</td>\n",
       "      <td>file</td>\n",
       "    </tr>\n",
       "    <tr>\n",
       "      <th>storage_proof5</th>\n",
       "      <td>facility_storage</td>\n",
       "      <td>file</td>\n",
       "    </tr>\n",
       "    <tr>\n",
       "      <th>storage_capacity5</th>\n",
       "      <td>facility_storage</td>\n",
       "      <td>file</td>\n",
       "    </tr>\n",
       "    <tr>\n",
       "      <th>loc_signature</th>\n",
       "      <td>facility_storage</td>\n",
       "      <td>file</td>\n",
       "    </tr>\n",
       "    <tr>\n",
       "      <th>addtl_upload1</th>\n",
       "      <td>facility_storage</td>\n",
       "      <td>file</td>\n",
       "    </tr>\n",
       "    <tr>\n",
       "      <th>addtl_upload2</th>\n",
       "      <td>facility_storage</td>\n",
       "      <td>file</td>\n",
       "    </tr>\n",
       "    <tr>\n",
       "      <th>addtl_upload3</th>\n",
       "      <td>facility_storage</td>\n",
       "      <td>file</td>\n",
       "    </tr>\n",
       "    <tr>\n",
       "      <th>provider_list</th>\n",
       "      <td>list_of_providers</td>\n",
       "      <td>file</td>\n",
       "    </tr>\n",
       "    <tr>\n",
       "      <th>org_cmo_signature</th>\n",
       "      <td>agreement_and_signatures</td>\n",
       "      <td>file</td>\n",
       "    </tr>\n",
       "    <tr>\n",
       "      <th>org_ceo_signature</th>\n",
       "      <td>agreement_and_signatures</td>\n",
       "      <td>file</td>\n",
       "    </tr>\n",
       "    <tr>\n",
       "      <th>doc_iis_isa</th>\n",
       "      <td>isa_approval</td>\n",
       "      <td>file</td>\n",
       "    </tr>\n",
       "    <tr>\n",
       "      <th>isa_oicp_signature</th>\n",
       "      <td>isa_approval</td>\n",
       "      <td>file</td>\n",
       "    </tr>\n",
       "    <tr>\n",
       "      <th>redistribution</th>\n",
       "      <td>vaccine_management_team_review</td>\n",
       "      <td>file</td>\n",
       "    </tr>\n",
       "  </tbody>\n",
       "</table>\n",
       "</div>"
      ],
      "text/plain": [
       "                                         form_name field_type\n",
       "field_name                                                   \n",
       "ddl_coc1                          facility_storage       file\n",
       "storage_tempproof1                facility_storage       file\n",
       "storage_proof1                    facility_storage       file\n",
       "storage_capacity1                 facility_storage       file\n",
       "ddl_coc2                          facility_storage       file\n",
       "storage_proof2                    facility_storage       file\n",
       "storage_tempproof2                facility_storage       file\n",
       "storage_capacity2                 facility_storage       file\n",
       "ddl_coc3                          facility_storage       file\n",
       "storage_tempproof3                facility_storage       file\n",
       "storage_proof3                    facility_storage       file\n",
       "storage_capacity3                 facility_storage       file\n",
       "ddl_coc4                          facility_storage       file\n",
       "storage_tempproof4                facility_storage       file\n",
       "storage_proof4                    facility_storage       file\n",
       "storage_capacity4                 facility_storage       file\n",
       "ddl_coc5                          facility_storage       file\n",
       "storage_tempproof5                facility_storage       file\n",
       "storage_proof5                    facility_storage       file\n",
       "storage_capacity5                 facility_storage       file\n",
       "loc_signature                     facility_storage       file\n",
       "addtl_upload1                     facility_storage       file\n",
       "addtl_upload2                     facility_storage       file\n",
       "addtl_upload3                     facility_storage       file\n",
       "provider_list                    list_of_providers       file\n",
       "org_cmo_signature         agreement_and_signatures       file\n",
       "org_ceo_signature         agreement_and_signatures       file\n",
       "doc_iis_isa                           isa_approval       file\n",
       "isa_oicp_signature                    isa_approval       file\n",
       "redistribution      vaccine_management_team_review       file"
      ]
     },
     "execution_count": 40,
     "metadata": {},
     "output_type": "execute_result"
    }
   ],
   "source": [
    "mask1 = meta_short_df.index.isin(unaccounted)\n",
    "\n",
    "print(len(meta_short_df.loc[mask1]))\n",
    "meta_short_df.loc[mask1]"
   ]
  },
  {
   "cell_type": "code",
   "execution_count": 44,
   "id": "5e0ce2ab-3e0f-4fd7-8acd-d2d01fb7ec45",
   "metadata": {},
   "outputs": [
    {
     "data": {
      "text/plain": [
       "30"
      ]
     },
     "execution_count": 44,
     "metadata": {},
     "output_type": "execute_result"
    }
   ],
   "source": [
    "len(meta_short_df[meta_short_df[\"field_type\"] == \"file\"].index)"
   ]
  },
  {
   "cell_type": "code",
   "execution_count": null,
   "id": "e945d67d-6a83-405e-9b26-0eb2bffb5887",
   "metadata": {},
   "outputs": [],
   "source": [
    "descriptive_fields = list(meta_short_df[meta_short_df[\"field_type\"] == \"descriptive\"].index)\n",
    "descriptive_fields"
   ]
  },
  {
   "cell_type": "code",
   "execution_count": 56,
   "id": "b389f9be-32f7-46c1-9bef-39a40b8e3aaa",
   "metadata": {},
   "outputs": [
    {
     "data": {
      "text/plain": [
       "False"
      ]
     },
     "execution_count": 56,
     "metadata": {},
     "output_type": "execute_result"
    }
   ],
   "source": [
    "record_df.columns.isin(descriptive_fields).any()"
   ]
  },
  {
   "cell_type": "code",
   "execution_count": 60,
   "id": "f86750b4-1f8e-4955-b797-61860cc9a104",
   "metadata": {},
   "outputs": [
    {
     "data": {
      "text/html": [
       "<div>\n",
       "<style scoped>\n",
       "    .dataframe tbody tr th:only-of-type {\n",
       "        vertical-align: middle;\n",
       "    }\n",
       "\n",
       "    .dataframe tbody tr th {\n",
       "        vertical-align: top;\n",
       "    }\n",
       "\n",
       "    .dataframe thead th {\n",
       "        text-align: right;\n",
       "    }\n",
       "</style>\n",
       "<table border=\"1\" class=\"dataframe\">\n",
       "  <thead>\n",
       "    <tr style=\"text-align: right;\">\n",
       "      <th></th>\n",
       "      <th>choice_value</th>\n",
       "      <th>export_field_name</th>\n",
       "      <th>form_name</th>\n",
       "      <th>field_type</th>\n",
       "    </tr>\n",
       "  </thead>\n",
       "  <tbody>\n",
       "    <tr>\n",
       "      <th>agreement_and_signatures_complete</th>\n",
       "      <td>NaN</td>\n",
       "      <td>agreement_and_signatures_complete</td>\n",
       "      <td>NaN</td>\n",
       "      <td>NaN</td>\n",
       "    </tr>\n",
       "    <tr>\n",
       "      <th>agreement_prescreen_complete</th>\n",
       "      <td>NaN</td>\n",
       "      <td>agreement_prescreen_complete</td>\n",
       "      <td>NaN</td>\n",
       "      <td>NaN</td>\n",
       "    </tr>\n",
       "    <tr>\n",
       "      <th>facility_information_complete</th>\n",
       "      <td>NaN</td>\n",
       "      <td>facility_information_complete</td>\n",
       "      <td>NaN</td>\n",
       "      <td>NaN</td>\n",
       "    </tr>\n",
       "    <tr>\n",
       "      <th>facility_storage_complete</th>\n",
       "      <td>NaN</td>\n",
       "      <td>facility_storage_complete</td>\n",
       "      <td>NaN</td>\n",
       "      <td>NaN</td>\n",
       "    </tr>\n",
       "    <tr>\n",
       "      <th>inquiry_enrollment_survey_complete</th>\n",
       "      <td>NaN</td>\n",
       "      <td>inquiry_enrollment_survey_complete</td>\n",
       "      <td>NaN</td>\n",
       "      <td>NaN</td>\n",
       "    </tr>\n",
       "    <tr>\n",
       "      <th>inquiry_review_form_complete</th>\n",
       "      <td>NaN</td>\n",
       "      <td>inquiry_review_form_complete</td>\n",
       "      <td>NaN</td>\n",
       "      <td>NaN</td>\n",
       "    </tr>\n",
       "    <tr>\n",
       "      <th>isa_approval_complete</th>\n",
       "      <td>NaN</td>\n",
       "      <td>isa_approval_complete</td>\n",
       "      <td>NaN</td>\n",
       "      <td>NaN</td>\n",
       "    </tr>\n",
       "    <tr>\n",
       "      <th>list_of_providers_complete</th>\n",
       "      <td>NaN</td>\n",
       "      <td>list_of_providers_complete</td>\n",
       "      <td>NaN</td>\n",
       "      <td>NaN</td>\n",
       "    </tr>\n",
       "    <tr>\n",
       "      <th>organization_information_complete</th>\n",
       "      <td>NaN</td>\n",
       "      <td>organization_information_complete</td>\n",
       "      <td>NaN</td>\n",
       "      <td>NaN</td>\n",
       "    </tr>\n",
       "    <tr>\n",
       "      <th>prescreening_survey_complete</th>\n",
       "      <td>NaN</td>\n",
       "      <td>prescreening_survey_complete</td>\n",
       "      <td>NaN</td>\n",
       "      <td>NaN</td>\n",
       "    </tr>\n",
       "    <tr>\n",
       "      <th>vaccine_management_team_review_complete</th>\n",
       "      <td>NaN</td>\n",
       "      <td>vaccine_management_team_review_complete</td>\n",
       "      <td>NaN</td>\n",
       "      <td>NaN</td>\n",
       "    </tr>\n",
       "    <tr>\n",
       "      <th>waiis_team_review_complete</th>\n",
       "      <td>NaN</td>\n",
       "      <td>waiis_team_review_complete</td>\n",
       "      <td>NaN</td>\n",
       "      <td>NaN</td>\n",
       "    </tr>\n",
       "  </tbody>\n",
       "</table>\n",
       "</div>"
      ],
      "text/plain": [
       "                                         choice_value  \\\n",
       "agreement_and_signatures_complete                 NaN   \n",
       "agreement_prescreen_complete                      NaN   \n",
       "facility_information_complete                     NaN   \n",
       "facility_storage_complete                         NaN   \n",
       "inquiry_enrollment_survey_complete                NaN   \n",
       "inquiry_review_form_complete                      NaN   \n",
       "isa_approval_complete                             NaN   \n",
       "list_of_providers_complete                        NaN   \n",
       "organization_information_complete                 NaN   \n",
       "prescreening_survey_complete                      NaN   \n",
       "vaccine_management_team_review_complete           NaN   \n",
       "waiis_team_review_complete                        NaN   \n",
       "\n",
       "                                                               export_field_name  \\\n",
       "agreement_and_signatures_complete              agreement_and_signatures_complete   \n",
       "agreement_prescreen_complete                        agreement_prescreen_complete   \n",
       "facility_information_complete                      facility_information_complete   \n",
       "facility_storage_complete                              facility_storage_complete   \n",
       "inquiry_enrollment_survey_complete            inquiry_enrollment_survey_complete   \n",
       "inquiry_review_form_complete                        inquiry_review_form_complete   \n",
       "isa_approval_complete                                      isa_approval_complete   \n",
       "list_of_providers_complete                            list_of_providers_complete   \n",
       "organization_information_complete              organization_information_complete   \n",
       "prescreening_survey_complete                        prescreening_survey_complete   \n",
       "vaccine_management_team_review_complete  vaccine_management_team_review_complete   \n",
       "waiis_team_review_complete                            waiis_team_review_complete   \n",
       "\n",
       "                                        form_name field_type  \n",
       "agreement_and_signatures_complete             NaN        NaN  \n",
       "agreement_prescreen_complete                  NaN        NaN  \n",
       "facility_information_complete                 NaN        NaN  \n",
       "facility_storage_complete                     NaN        NaN  \n",
       "inquiry_enrollment_survey_complete            NaN        NaN  \n",
       "inquiry_review_form_complete                  NaN        NaN  \n",
       "isa_approval_complete                         NaN        NaN  \n",
       "list_of_providers_complete                    NaN        NaN  \n",
       "organization_information_complete             NaN        NaN  \n",
       "prescreening_survey_complete                  NaN        NaN  \n",
       "vaccine_management_team_review_complete       NaN        NaN  \n",
       "waiis_team_review_complete                    NaN        NaN  "
      ]
     },
     "execution_count": 60,
     "metadata": {},
     "output_type": "execute_result"
    }
   ],
   "source": [
    "fields_df_01[fields_df_01[\"field_type\"].isnull()]"
   ]
  },
  {
   "cell_type": "code",
   "execution_count": 61,
   "id": "b89dd2a0-dc1c-47f3-b762-09386b464121",
   "metadata": {},
   "outputs": [
    {
     "data": {
      "text/plain": [
       "choice_value         float64\n",
       "export_field_name     object\n",
       "form_name             object\n",
       "field_type            object\n",
       "dtype: object"
      ]
     },
     "execution_count": 61,
     "metadata": {},
     "output_type": "execute_result"
    }
   ],
   "source": [
    "fields_df_01.dtypes"
   ]
  },
  {
   "cell_type": "code",
   "execution_count": null,
   "id": "95dedeb7-08c6-47b5-8d34-ee92f58349a2",
   "metadata": {},
   "outputs": [],
   "source": []
  },
  {
   "cell_type": "code",
   "execution_count": null,
   "id": "ce8b2737-1f4d-439d-9381-d84b00933696",
   "metadata": {},
   "outputs": [],
   "source": []
  },
  {
   "cell_type": "code",
   "execution_count": null,
   "id": "aa48e677-877a-4044-83d5-0e07de53bf72",
   "metadata": {},
   "outputs": [],
   "source": []
  },
  {
   "cell_type": "code",
   "execution_count": 10,
   "id": "2ae054be-ad6e-4826-bc79-75601fa62aef",
   "metadata": {},
   "outputs": [
    {
     "data": {
      "text/plain": [
       "471"
      ]
     },
     "execution_count": 10,
     "metadata": {},
     "output_type": "execute_result"
    }
   ],
   "source": [
    "len(set(record_df.columns))"
   ]
  },
  {
   "cell_type": "code",
   "execution_count": 15,
   "id": "433140bc-f8fd-4566-82cd-13a68f127703",
   "metadata": {},
   "outputs": [
    {
     "data": {
      "text/html": [
       "<div>\n",
       "<style scoped>\n",
       "    .dataframe tbody tr th:only-of-type {\n",
       "        vertical-align: middle;\n",
       "    }\n",
       "\n",
       "    .dataframe tbody tr th {\n",
       "        vertical-align: top;\n",
       "    }\n",
       "\n",
       "    .dataframe thead th {\n",
       "        text-align: right;\n",
       "    }\n",
       "</style>\n",
       "<table border=\"1\" class=\"dataframe\">\n",
       "  <thead>\n",
       "    <tr style=\"text-align: right;\">\n",
       "      <th></th>\n",
       "      <th>choice_value</th>\n",
       "      <th>export_field_name</th>\n",
       "      <th>form_name</th>\n",
       "      <th>field_type</th>\n",
       "    </tr>\n",
       "  </thead>\n",
       "  <tbody>\n",
       "    <tr>\n",
       "      <th>record_id</th>\n",
       "      <td>NaN</td>\n",
       "      <td>record_id</td>\n",
       "      <td>NaN</td>\n",
       "      <td>NaN</td>\n",
       "    </tr>\n",
       "  </tbody>\n",
       "</table>\n",
       "</div>"
      ],
      "text/plain": [
       "           choice_value export_field_name form_name field_type\n",
       "record_id           NaN         record_id       NaN        NaN"
      ]
     },
     "execution_count": 15,
     "metadata": {},
     "output_type": "execute_result"
    }
   ],
   "source": [
    "fields_df_01[fields_df_01[\"export_field_name\"] == \"record_id\"]"
   ]
  },
  {
   "cell_type": "code",
   "execution_count": null,
   "id": "018bc89c-50f9-4988-8e4a-5821aab046ac",
   "metadata": {},
   "outputs": [],
   "source": [
    "meta_df.shape"
   ]
  },
  {
   "cell_type": "code",
   "execution_count": null,
   "id": "76d6a509-e5b5-493b-af27-74b3ca1247de",
   "metadata": {},
   "outputs": [],
   "source": [
    "fields_df.shape"
   ]
  },
  {
   "cell_type": "code",
   "execution_count": null,
   "id": "654337f3-8500-4efb-b956-347d322c6262",
   "metadata": {},
   "outputs": [],
   "source": [
    "record_df.shape"
   ]
  },
  {
   "cell_type": "code",
   "execution_count": null,
   "id": "ce62573d-12c6-432d-8cde-c3c6e1c880dd",
   "metadata": {},
   "outputs": [],
   "source": [
    "meta_df[meta_df[\"field_type\"] != \"descriptive\"].shape"
   ]
  },
  {
   "cell_type": "code",
   "execution_count": null,
   "id": "fa2a098d-a568-42c2-9bde-07c3bea9b555",
   "metadata": {},
   "outputs": [],
   "source": [
    "meta_df = meta_df.drop(\"record_id\")\n",
    "\n",
    "meta_short_df = meta_df[[\"form_name\", \"field_type\"]].copy()\n",
    "\n",
    "fields_df_01 = fields_df.join(meta_short_df)"
   ]
  },
  {
   "cell_type": "code",
   "execution_count": null,
   "id": "937302d9-18d9-425c-bb3c-503f4f105e80",
   "metadata": {},
   "outputs": [],
   "source": [
    "meta_df.index"
   ]
  },
  {
   "cell_type": "code",
   "execution_count": null,
   "id": "b239cde3-46eb-4b24-ac32-d7344d4ea0f4",
   "metadata": {},
   "outputs": [],
   "source": []
  },
  {
   "cell_type": "code",
   "execution_count": null,
   "id": "4d713b93-d5ac-4caf-b5f5-6130d23788d9",
   "metadata": {},
   "outputs": [],
   "source": [
    "meta_short_df[meta_short_df[\"field_type\"] == \"descriptive\"]"
   ]
  },
  {
   "cell_type": "code",
   "execution_count": null,
   "id": "22de721c-0f99-49ef-9ef0-5602d0246569",
   "metadata": {},
   "outputs": [],
   "source": [
    "fields_df_01 = fields_df.join(meta_short_df)"
   ]
  },
  {
   "cell_type": "code",
   "execution_count": null,
   "id": "554d6ddb-7fdc-42c3-b548-2fbd5b40c254",
   "metadata": {},
   "outputs": [],
   "source": [
    "len(set(fields_df_01.index))"
   ]
  },
  {
   "cell_type": "code",
   "execution_count": null,
   "id": "9cace1c9-c22a-4ea6-b1c9-1c2b00640d5c",
   "metadata": {},
   "outputs": [],
   "source": [
    "len(fields_df_01[\"export_field_name\"])"
   ]
  },
  {
   "cell_type": "code",
   "execution_count": null,
   "id": "3de7fd9b-449c-4f44-8760-f74bee6aa6a8",
   "metadata": {},
   "outputs": [],
   "source": [
    "new = set(fields_df_01[\"export_field_name\"]) & set(record_df.columns)"
   ]
  },
  {
   "cell_type": "code",
   "execution_count": null,
   "id": "414e40cf-8a27-43b6-98a7-a09a75836967",
   "metadata": {},
   "outputs": [],
   "source": [
    "set(fields_df_01[\"export_field_name\"]) - new"
   ]
  },
  {
   "cell_type": "code",
   "execution_count": null,
   "id": "1658ce56-a27c-481c-8839-38fb4d62cf28",
   "metadata": {},
   "outputs": [],
   "source": []
  },
  {
   "cell_type": "code",
   "execution_count": null,
   "id": "eb8486b2-cc29-4cb5-973e-d72f0d210b48",
   "metadata": {},
   "outputs": [],
   "source": [
    "meta_short_df"
   ]
  },
  {
   "cell_type": "code",
   "execution_count": null,
   "id": "c00fa773-96e9-4d3b-b50d-3c4ee2ee059e",
   "metadata": {},
   "outputs": [],
   "source": []
  }
 ],
 "metadata": {
  "kernelspec": {
   "display_name": "Python [conda env:transform22] *",
   "language": "python",
   "name": "conda-env-transform22-py"
  },
  "language_info": {
   "codemirror_mode": {
    "name": "ipython",
    "version": 3
   },
   "file_extension": ".py",
   "mimetype": "text/x-python",
   "name": "python",
   "nbconvert_exporter": "python",
   "pygments_lexer": "ipython3",
   "version": "3.9.12"
  }
 },
 "nbformat": 4,
 "nbformat_minor": 5
}
